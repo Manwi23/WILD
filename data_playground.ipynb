{
 "metadata": {
  "language_info": {
   "codemirror_mode": {
    "name": "ipython",
    "version": 3
   },
   "file_extension": ".py",
   "mimetype": "text/x-python",
   "name": "python",
   "nbconvert_exporter": "python",
   "pygments_lexer": "ipython3",
   "version": "3.8.5-final"
  },
  "orig_nbformat": 2,
  "kernelspec": {
   "name": "python38564bit43010656c28c4a75a85a4ba783f8eb7c",
   "display_name": "Python 3.8.5 64-bit",
   "language": "python"
  }
 },
 "nbformat": 4,
 "nbformat_minor": 2,
 "cells": [
  {
   "cell_type": "code",
   "execution_count": 1,
   "metadata": {},
   "outputs": [],
   "source": [
    "import pandas as pd\n",
    "import numpy as np\n",
    "import matplotlib.pyplot as plt\n",
    "from datetime import datetime\n",
    "import scipy.stats\n",
    "from os.path import exists\n"
   ]
  },
  {
   "cell_type": "code",
   "execution_count": 2,
   "metadata": {},
   "outputs": [],
   "source": [
    "# Load pre processed data (run explore.py if it doesn't exist)\n",
    "processed_df = pd.read_csv(\"processed.csv\")"
   ]
  },
  {
   "cell_type": "code",
   "execution_count": 3,
   "metadata": {},
   "outputs": [
    {
     "output_type": "execute_result",
     "data": {
      "text/plain": [
       "    Unnamed: 0  index        Date      Time  Temperature  Dew Point  Humidity  \\\n",
       "0            0     24  2014-01-01  12:00 PM     7.222222         36        71   \n",
       "1            1     25  2014-01-01  12:30 PM     7.777778         36        66   \n",
       "2            2     26  2014-01-01   1:00 PM     7.777778         34        62   \n",
       "3            3     27  2014-01-01   1:30 PM     7.777778         34        62   \n",
       "4            4     28  2014-01-01   2:00 PM     7.222222         34        66   \n",
       "5            5     29  2014-01-01   2:30 PM     7.222222         34        66   \n",
       "6            6     30  2014-01-01   3:00 PM     7.222222         34        66   \n",
       "7            7     31  2014-01-01   3:30 PM     6.111111          0        66   \n",
       "8            8     32  2014-01-01   4:00 PM     5.000000          0        70   \n",
       "9            9     33  2014-01-01   4:30 PM     3.888889          0        75   \n",
       "10          10     34  2014-01-01   5:00 PM     3.888889          0        75   \n",
       "11          11     35  2014-01-01   5:30 PM     5.000000          0        70   \n",
       "12          12     36  2014-01-01   6:00 PM     5.000000          0        70   \n",
       "13          13     37  2014-01-01   6:30 PM     3.888889          0        75   \n",
       "14          14     38  2014-01-01   7:00 PM     3.888889          0        75   \n",
       "\n",
       "   Wind  Wind Speed  Wind Gust  Pressure  Precip. Condition  TemperaturePrev  \\\n",
       "0     S           6          0     29.57      0.0      Fair         2.222222   \n",
       "1     S           6          0     29.57      0.0      Fair         2.777778   \n",
       "2    SW          10          0     29.57      0.0      Fair         2.777778   \n",
       "3    SW          12          0     29.57      0.0      Fair         2.777778   \n",
       "4    SW          12          0     29.57      0.0      Fair         2.777778   \n",
       "5    SW           9          0     29.57      0.0      Fair         2.777778   \n",
       "6    SW           8          0     29.57      0.0      Fair         2.777778   \n",
       "7   WSW           5          0     29.57      0.0      Fair         2.777778   \n",
       "8   VAR           2          0     29.57      0.0      Fair         2.777778   \n",
       "9   VAR           2          0     29.57      0.0      Fair         3.888889   \n",
       "10  VAR           2          0     29.57      0.0      Fair         2.777778   \n",
       "11    S           6          0     29.57      0.0      Fair         5.000000   \n",
       "12    S           3          0     29.57      0.0      Fair         5.000000   \n",
       "13  SSE           6          0     29.57      0.0      Fair         5.000000   \n",
       "14  SSE           2          0     29.57      0.0      Fair         5.000000   \n",
       "\n",
       "      target  \n",
       "0  -4.444444  \n",
       "1  -5.000000  \n",
       "2  -5.000000  \n",
       "3  -5.555556  \n",
       "4  -3.888889  \n",
       "5  -2.777778  \n",
       "6  -2.777778  \n",
       "7   0.000000  \n",
       "8   0.000000  \n",
       "9  -1.111111  \n",
       "10  0.000000  \n",
       "11 -2.222222  \n",
       "12 -2.777778  \n",
       "13 -3.888889  \n",
       "14 -2.777778  "
      ],
      "text/html": "<div>\n<style scoped>\n    .dataframe tbody tr th:only-of-type {\n        vertical-align: middle;\n    }\n\n    .dataframe tbody tr th {\n        vertical-align: top;\n    }\n\n    .dataframe thead th {\n        text-align: right;\n    }\n</style>\n<table border=\"1\" class=\"dataframe\">\n  <thead>\n    <tr style=\"text-align: right;\">\n      <th></th>\n      <th>Unnamed: 0</th>\n      <th>index</th>\n      <th>Date</th>\n      <th>Time</th>\n      <th>Temperature</th>\n      <th>Dew Point</th>\n      <th>Humidity</th>\n      <th>Wind</th>\n      <th>Wind Speed</th>\n      <th>Wind Gust</th>\n      <th>Pressure</th>\n      <th>Precip.</th>\n      <th>Condition</th>\n      <th>TemperaturePrev</th>\n      <th>target</th>\n    </tr>\n  </thead>\n  <tbody>\n    <tr>\n      <th>0</th>\n      <td>0</td>\n      <td>24</td>\n      <td>2014-01-01</td>\n      <td>12:00 PM</td>\n      <td>7.222222</td>\n      <td>36</td>\n      <td>71</td>\n      <td>S</td>\n      <td>6</td>\n      <td>0</td>\n      <td>29.57</td>\n      <td>0.0</td>\n      <td>Fair</td>\n      <td>2.222222</td>\n      <td>-4.444444</td>\n    </tr>\n    <tr>\n      <th>1</th>\n      <td>1</td>\n      <td>25</td>\n      <td>2014-01-01</td>\n      <td>12:30 PM</td>\n      <td>7.777778</td>\n      <td>36</td>\n      <td>66</td>\n      <td>S</td>\n      <td>6</td>\n      <td>0</td>\n      <td>29.57</td>\n      <td>0.0</td>\n      <td>Fair</td>\n      <td>2.777778</td>\n      <td>-5.000000</td>\n    </tr>\n    <tr>\n      <th>2</th>\n      <td>2</td>\n      <td>26</td>\n      <td>2014-01-01</td>\n      <td>1:00 PM</td>\n      <td>7.777778</td>\n      <td>34</td>\n      <td>62</td>\n      <td>SW</td>\n      <td>10</td>\n      <td>0</td>\n      <td>29.57</td>\n      <td>0.0</td>\n      <td>Fair</td>\n      <td>2.777778</td>\n      <td>-5.000000</td>\n    </tr>\n    <tr>\n      <th>3</th>\n      <td>3</td>\n      <td>27</td>\n      <td>2014-01-01</td>\n      <td>1:30 PM</td>\n      <td>7.777778</td>\n      <td>34</td>\n      <td>62</td>\n      <td>SW</td>\n      <td>12</td>\n      <td>0</td>\n      <td>29.57</td>\n      <td>0.0</td>\n      <td>Fair</td>\n      <td>2.777778</td>\n      <td>-5.555556</td>\n    </tr>\n    <tr>\n      <th>4</th>\n      <td>4</td>\n      <td>28</td>\n      <td>2014-01-01</td>\n      <td>2:00 PM</td>\n      <td>7.222222</td>\n      <td>34</td>\n      <td>66</td>\n      <td>SW</td>\n      <td>12</td>\n      <td>0</td>\n      <td>29.57</td>\n      <td>0.0</td>\n      <td>Fair</td>\n      <td>2.777778</td>\n      <td>-3.888889</td>\n    </tr>\n    <tr>\n      <th>5</th>\n      <td>5</td>\n      <td>29</td>\n      <td>2014-01-01</td>\n      <td>2:30 PM</td>\n      <td>7.222222</td>\n      <td>34</td>\n      <td>66</td>\n      <td>SW</td>\n      <td>9</td>\n      <td>0</td>\n      <td>29.57</td>\n      <td>0.0</td>\n      <td>Fair</td>\n      <td>2.777778</td>\n      <td>-2.777778</td>\n    </tr>\n    <tr>\n      <th>6</th>\n      <td>6</td>\n      <td>30</td>\n      <td>2014-01-01</td>\n      <td>3:00 PM</td>\n      <td>7.222222</td>\n      <td>34</td>\n      <td>66</td>\n      <td>SW</td>\n      <td>8</td>\n      <td>0</td>\n      <td>29.57</td>\n      <td>0.0</td>\n      <td>Fair</td>\n      <td>2.777778</td>\n      <td>-2.777778</td>\n    </tr>\n    <tr>\n      <th>7</th>\n      <td>7</td>\n      <td>31</td>\n      <td>2014-01-01</td>\n      <td>3:30 PM</td>\n      <td>6.111111</td>\n      <td>0</td>\n      <td>66</td>\n      <td>WSW</td>\n      <td>5</td>\n      <td>0</td>\n      <td>29.57</td>\n      <td>0.0</td>\n      <td>Fair</td>\n      <td>2.777778</td>\n      <td>0.000000</td>\n    </tr>\n    <tr>\n      <th>8</th>\n      <td>8</td>\n      <td>32</td>\n      <td>2014-01-01</td>\n      <td>4:00 PM</td>\n      <td>5.000000</td>\n      <td>0</td>\n      <td>70</td>\n      <td>VAR</td>\n      <td>2</td>\n      <td>0</td>\n      <td>29.57</td>\n      <td>0.0</td>\n      <td>Fair</td>\n      <td>2.777778</td>\n      <td>0.000000</td>\n    </tr>\n    <tr>\n      <th>9</th>\n      <td>9</td>\n      <td>33</td>\n      <td>2014-01-01</td>\n      <td>4:30 PM</td>\n      <td>3.888889</td>\n      <td>0</td>\n      <td>75</td>\n      <td>VAR</td>\n      <td>2</td>\n      <td>0</td>\n      <td>29.57</td>\n      <td>0.0</td>\n      <td>Fair</td>\n      <td>3.888889</td>\n      <td>-1.111111</td>\n    </tr>\n    <tr>\n      <th>10</th>\n      <td>10</td>\n      <td>34</td>\n      <td>2014-01-01</td>\n      <td>5:00 PM</td>\n      <td>3.888889</td>\n      <td>0</td>\n      <td>75</td>\n      <td>VAR</td>\n      <td>2</td>\n      <td>0</td>\n      <td>29.57</td>\n      <td>0.0</td>\n      <td>Fair</td>\n      <td>2.777778</td>\n      <td>0.000000</td>\n    </tr>\n    <tr>\n      <th>11</th>\n      <td>11</td>\n      <td>35</td>\n      <td>2014-01-01</td>\n      <td>5:30 PM</td>\n      <td>5.000000</td>\n      <td>0</td>\n      <td>70</td>\n      <td>S</td>\n      <td>6</td>\n      <td>0</td>\n      <td>29.57</td>\n      <td>0.0</td>\n      <td>Fair</td>\n      <td>5.000000</td>\n      <td>-2.222222</td>\n    </tr>\n    <tr>\n      <th>12</th>\n      <td>12</td>\n      <td>36</td>\n      <td>2014-01-01</td>\n      <td>6:00 PM</td>\n      <td>5.000000</td>\n      <td>0</td>\n      <td>70</td>\n      <td>S</td>\n      <td>3</td>\n      <td>0</td>\n      <td>29.57</td>\n      <td>0.0</td>\n      <td>Fair</td>\n      <td>5.000000</td>\n      <td>-2.777778</td>\n    </tr>\n    <tr>\n      <th>13</th>\n      <td>13</td>\n      <td>37</td>\n      <td>2014-01-01</td>\n      <td>6:30 PM</td>\n      <td>3.888889</td>\n      <td>0</td>\n      <td>75</td>\n      <td>SSE</td>\n      <td>6</td>\n      <td>0</td>\n      <td>29.57</td>\n      <td>0.0</td>\n      <td>Fair</td>\n      <td>5.000000</td>\n      <td>-3.888889</td>\n    </tr>\n    <tr>\n      <th>14</th>\n      <td>14</td>\n      <td>38</td>\n      <td>2014-01-01</td>\n      <td>7:00 PM</td>\n      <td>3.888889</td>\n      <td>0</td>\n      <td>75</td>\n      <td>SSE</td>\n      <td>2</td>\n      <td>0</td>\n      <td>29.57</td>\n      <td>0.0</td>\n      <td>Fair</td>\n      <td>5.000000</td>\n      <td>-2.777778</td>\n    </tr>\n  </tbody>\n</table>\n</div>"
     },
     "metadata": {},
     "execution_count": 3
    }
   ],
   "source": [
    "processed_df.head(15)"
   ]
  },
  {
   "cell_type": "code",
   "execution_count": 4,
   "metadata": {},
   "outputs": [
    {
     "output_type": "stream",
     "name": "stdout",
     "text": [
      "<class 'pandas.core.frame.DataFrame'>\nRangeIndex: 29608 entries, 0 to 29607\nData columns (total 15 columns):\n #   Column           Non-Null Count  Dtype  \n---  ------           --------------  -----  \n 0   Unnamed: 0       29608 non-null  int64  \n 1   index            29608 non-null  int64  \n 2   Date             29608 non-null  object \n 3   Time             29608 non-null  object \n 4   Temperature      29608 non-null  float64\n 5   Dew Point        29608 non-null  int64  \n 6   Humidity         29608 non-null  int64  \n 7   Wind             29608 non-null  object \n 8   Wind Speed       29608 non-null  int64  \n 9   Wind Gust        29608 non-null  int64  \n 10  Pressure         29608 non-null  float64\n 11  Precip.          29608 non-null  float64\n 12  Condition        29608 non-null  object \n 13  TemperaturePrev  29608 non-null  float64\n 14  target           29608 non-null  float64\ndtypes: float64(5), int64(6), object(4)\nmemory usage: 3.4+ MB\n"
     ]
    }
   ],
   "source": [
    "processed_df.info()"
   ]
  },
  {
   "source": [
    "## Using 1 hot encoding to change 'Wind' and 'Condition' columns from categorical to numerical data "
   ],
   "cell_type": "markdown",
   "metadata": {}
  },
  {
   "cell_type": "code",
   "execution_count": 21,
   "metadata": {},
   "outputs": [],
   "source": [
    "numerical_df =pd.get_dummies(processed_df, columns = ['Wind', 'Condition'])"
   ]
  },
  {
   "cell_type": "code",
   "execution_count": 23,
   "metadata": {},
   "outputs": [
    {
     "output_type": "stream",
     "name": "stdout",
     "text": [
      "<class 'pandas.core.frame.DataFrame'>\nRangeIndex: 29608 entries, 0 to 29607\nData columns (total 85 columns):\n #   Column                               Non-Null Count  Dtype  \n---  ------                               --------------  -----  \n 0   Unnamed: 0                           29608 non-null  int64  \n 1   index                                29608 non-null  int64  \n 2   Date                                 29608 non-null  object \n 3   Time                                 29608 non-null  object \n 4   Temperature                          29608 non-null  float64\n 5   Dew Point                            29608 non-null  int64  \n 6   Humidity                             29608 non-null  int64  \n 7   Wind Speed                           29608 non-null  int64  \n 8   Wind Gust                            29608 non-null  int64  \n 9   Pressure                             29608 non-null  float64\n 10  Precip.                              29608 non-null  float64\n 11  TemperaturePrev                      29608 non-null  float64\n 12  target                               29608 non-null  float64\n 13  Wind_CALM                            29608 non-null  uint8  \n 14  Wind_E                               29608 non-null  uint8  \n 15  Wind_ENE                             29608 non-null  uint8  \n 16  Wind_ESE                             29608 non-null  uint8  \n 17  Wind_N                               29608 non-null  uint8  \n 18  Wind_NE                              29608 non-null  uint8  \n 19  Wind_NNE                             29608 non-null  uint8  \n 20  Wind_NNW                             29608 non-null  uint8  \n 21  Wind_NW                              29608 non-null  uint8  \n 22  Wind_S                               29608 non-null  uint8  \n 23  Wind_SE                              29608 non-null  uint8  \n 24  Wind_SSE                             29608 non-null  uint8  \n 25  Wind_SSW                             29608 non-null  uint8  \n 26  Wind_SW                              29608 non-null  uint8  \n 27  Wind_VAR                             29608 non-null  uint8  \n 28  Wind_W                               29608 non-null  uint8  \n 29  Wind_WNW                             29608 non-null  uint8  \n 30  Wind_WSW                             29608 non-null  uint8  \n 31  Condition_Blowing Snow               29608 non-null  uint8  \n 32  Condition_Blowing Snow / Windy       29608 non-null  uint8  \n 33  Condition_Cloudy                     29608 non-null  uint8  \n 34  Condition_Cloudy / Windy             29608 non-null  uint8  \n 35  Condition_Drifting Snow              29608 non-null  uint8  \n 36  Condition_Drifting Snow / Windy      29608 non-null  uint8  \n 37  Condition_Drizzle                    29608 non-null  uint8  \n 38  Condition_Drizzle / Windy            29608 non-null  uint8  \n 39  Condition_Fair                       29608 non-null  uint8  \n 40  Condition_Fair / Windy               29608 non-null  uint8  \n 41  Condition_Fog                        29608 non-null  uint8  \n 42  Condition_Freezing Drizzle           29608 non-null  uint8  \n 43  Condition_Haze                       29608 non-null  uint8  \n 44  Condition_Heavy Rain Shower          29608 non-null  uint8  \n 45  Condition_Heavy Snow                 29608 non-null  uint8  \n 46  Condition_Heavy Snow Shower          29608 non-null  uint8  \n 47  Condition_Heavy Snow Shower / Windy  29608 non-null  uint8  \n 48  Condition_Light Drizzle              29608 non-null  uint8  \n 49  Condition_Light Drizzle / Windy      29608 non-null  uint8  \n 50  Condition_Light Freezing Drizzle     29608 non-null  uint8  \n 51  Condition_Light Freezing Rain        29608 non-null  uint8  \n 52  Condition_Light Rain                 29608 non-null  uint8  \n 53  Condition_Light Rain / Windy         29608 non-null  uint8  \n 54  Condition_Light Rain Shower          29608 non-null  uint8  \n 55  Condition_Light Rain Shower / Windy  29608 non-null  uint8  \n 56  Condition_Light Sleet                29608 non-null  uint8  \n 57  Condition_Light Snow                 29608 non-null  uint8  \n 58  Condition_Light Snow / Windy         29608 non-null  uint8  \n 59  Condition_Light Snow Grains          29608 non-null  uint8  \n 60  Condition_Light Snow Shower          29608 non-null  uint8  \n 61  Condition_Light Snow Shower / Windy  29608 non-null  uint8  \n 62  Condition_Mist                       29608 non-null  uint8  \n 63  Condition_Mostly Cloudy              29608 non-null  uint8  \n 64  Condition_Mostly Cloudy / Windy      29608 non-null  uint8  \n 65  Condition_Partial Fog                29608 non-null  uint8  \n 66  Condition_Partly Cloudy              29608 non-null  uint8  \n 67  Condition_Partly Cloudy / Windy      29608 non-null  uint8  \n 68  Condition_Patches of Fog             29608 non-null  uint8  \n 69  Condition_Rain                       29608 non-null  uint8  \n 70  Condition_Rain Shower                29608 non-null  uint8  \n 71  Condition_Rain Shower / Windy        29608 non-null  uint8  \n 72  Condition_Rain and Snow              29608 non-null  uint8  \n 73  Condition_Rain and Snow / Windy      29608 non-null  uint8  \n 74  Condition_Shallow Fog                29608 non-null  uint8  \n 75  Condition_Showers in the Vicinity    29608 non-null  uint8  \n 76  Condition_Small Hail                 29608 non-null  uint8  \n 77  Condition_Smoke                      29608 non-null  uint8  \n 78  Condition_Snow                       29608 non-null  uint8  \n 79  Condition_Snow / Windy               29608 non-null  uint8  \n 80  Condition_Snow Grains                29608 non-null  uint8  \n 81  Condition_Snow Shower                29608 non-null  uint8  \n 82  Condition_Snow Shower / Windy        29608 non-null  uint8  \n 83  Condition_Wintry Mix                 29608 non-null  uint8  \n 84  Condition_Wintry Mix / Windy         29608 non-null  uint8  \ndtypes: float64(5), int64(6), object(2), uint8(72)\nmemory usage: 5.0+ MB\n"
     ]
    }
   ],
   "source": [
    "numerical_df.info()"
   ]
  },
  {
   "cell_type": "code",
   "execution_count": 54,
   "metadata": {},
   "outputs": [
    {
     "output_type": "execute_result",
     "data": {
      "text/plain": [
       "       Unnamed: 0  index        Date      Time  Temperature  Dew Point  \\\n",
       "0               0     24  2014-01-01  12:00 PM     7.222222         36   \n",
       "1               1     25  2014-01-01  12:30 PM     7.777778         36   \n",
       "2               2     26  2014-01-01   1:00 PM     7.777778         34   \n",
       "3               3     27  2014-01-01   1:30 PM     7.777778         34   \n",
       "4               4     28  2014-01-01   2:00 PM     7.222222         34   \n",
       "...           ...    ...         ...       ...          ...        ...   \n",
       "29603       29603   4288  2020-03-30   8:30 AM     0.000000         21   \n",
       "29604       29604   4289  2020-03-30   9:00 AM     1.111111         21   \n",
       "29605       29605   4290  2020-03-30   9:30 AM     2.222222         19   \n",
       "29606       29606   4291  2020-03-30  10:00 AM     2.222222         19   \n",
       "29607       29607   4292  2020-03-30  10:30 AM     2.777778         19   \n",
       "\n",
       "       Humidity  Wind Speed  Wind Gust  Pressure  ...  \\\n",
       "0            71           6          0     29.57  ...   \n",
       "1            66           6          0     29.57  ...   \n",
       "2            62          10          0     29.57  ...   \n",
       "3            62          12          0     29.57  ...   \n",
       "4            66          12          0     29.57  ...   \n",
       "...         ...         ...        ...       ...  ...   \n",
       "29603        64           8          0     29.87  ...   \n",
       "29604        60          10          0     29.87  ...   \n",
       "29605        52           9          0     29.87  ...   \n",
       "29606        52          10          0     29.87  ...   \n",
       "29607        48          10          0     29.84  ...   \n",
       "\n",
       "       Condition_Showers in the Vicinity  Condition_Small Hail  \\\n",
       "0                                      0                     0   \n",
       "1                                      0                     0   \n",
       "2                                      0                     0   \n",
       "3                                      0                     0   \n",
       "4                                      0                     0   \n",
       "...                                  ...                   ...   \n",
       "29603                                  0                     0   \n",
       "29604                                  0                     0   \n",
       "29605                                  0                     0   \n",
       "29606                                  0                     0   \n",
       "29607                                  0                     0   \n",
       "\n",
       "       Condition_Smoke  Condition_Snow  Condition_Snow / Windy  \\\n",
       "0                    0               0                       0   \n",
       "1                    0               0                       0   \n",
       "2                    0               0                       0   \n",
       "3                    0               0                       0   \n",
       "4                    0               0                       0   \n",
       "...                ...             ...                     ...   \n",
       "29603                0               0                       0   \n",
       "29604                0               0                       0   \n",
       "29605                0               0                       0   \n",
       "29606                0               0                       0   \n",
       "29607                0               0                       0   \n",
       "\n",
       "       Condition_Snow Grains  Condition_Snow Shower  \\\n",
       "0                          0                      0   \n",
       "1                          0                      0   \n",
       "2                          0                      0   \n",
       "3                          0                      0   \n",
       "4                          0                      0   \n",
       "...                      ...                    ...   \n",
       "29603                      0                      0   \n",
       "29604                      0                      0   \n",
       "29605                      0                      0   \n",
       "29606                      0                      0   \n",
       "29607                      0                      0   \n",
       "\n",
       "       Condition_Snow Shower / Windy  Condition_Wintry Mix  \\\n",
       "0                                  0                     0   \n",
       "1                                  0                     0   \n",
       "2                                  0                     0   \n",
       "3                                  0                     0   \n",
       "4                                  0                     0   \n",
       "...                              ...                   ...   \n",
       "29603                              0                     0   \n",
       "29604                              0                     0   \n",
       "29605                              0                     0   \n",
       "29606                              0                     0   \n",
       "29607                              0                     0   \n",
       "\n",
       "       Condition_Wintry Mix / Windy  \n",
       "0                                 0  \n",
       "1                                 0  \n",
       "2                                 0  \n",
       "3                                 0  \n",
       "4                                 0  \n",
       "...                             ...  \n",
       "29603                             0  \n",
       "29604                             0  \n",
       "29605                             0  \n",
       "29606                             0  \n",
       "29607                             0  \n",
       "\n",
       "[29608 rows x 85 columns]"
      ],
      "text/html": "<div>\n<style scoped>\n    .dataframe tbody tr th:only-of-type {\n        vertical-align: middle;\n    }\n\n    .dataframe tbody tr th {\n        vertical-align: top;\n    }\n\n    .dataframe thead th {\n        text-align: right;\n    }\n</style>\n<table border=\"1\" class=\"dataframe\">\n  <thead>\n    <tr style=\"text-align: right;\">\n      <th></th>\n      <th>Unnamed: 0</th>\n      <th>index</th>\n      <th>Date</th>\n      <th>Time</th>\n      <th>Temperature</th>\n      <th>Dew Point</th>\n      <th>Humidity</th>\n      <th>Wind Speed</th>\n      <th>Wind Gust</th>\n      <th>Pressure</th>\n      <th>...</th>\n      <th>Condition_Showers in the Vicinity</th>\n      <th>Condition_Small Hail</th>\n      <th>Condition_Smoke</th>\n      <th>Condition_Snow</th>\n      <th>Condition_Snow / Windy</th>\n      <th>Condition_Snow Grains</th>\n      <th>Condition_Snow Shower</th>\n      <th>Condition_Snow Shower / Windy</th>\n      <th>Condition_Wintry Mix</th>\n      <th>Condition_Wintry Mix / Windy</th>\n    </tr>\n  </thead>\n  <tbody>\n    <tr>\n      <th>0</th>\n      <td>0</td>\n      <td>24</td>\n      <td>2014-01-01</td>\n      <td>12:00 PM</td>\n      <td>7.222222</td>\n      <td>36</td>\n      <td>71</td>\n      <td>6</td>\n      <td>0</td>\n      <td>29.57</td>\n      <td>...</td>\n      <td>0</td>\n      <td>0</td>\n      <td>0</td>\n      <td>0</td>\n      <td>0</td>\n      <td>0</td>\n      <td>0</td>\n      <td>0</td>\n      <td>0</td>\n      <td>0</td>\n    </tr>\n    <tr>\n      <th>1</th>\n      <td>1</td>\n      <td>25</td>\n      <td>2014-01-01</td>\n      <td>12:30 PM</td>\n      <td>7.777778</td>\n      <td>36</td>\n      <td>66</td>\n      <td>6</td>\n      <td>0</td>\n      <td>29.57</td>\n      <td>...</td>\n      <td>0</td>\n      <td>0</td>\n      <td>0</td>\n      <td>0</td>\n      <td>0</td>\n      <td>0</td>\n      <td>0</td>\n      <td>0</td>\n      <td>0</td>\n      <td>0</td>\n    </tr>\n    <tr>\n      <th>2</th>\n      <td>2</td>\n      <td>26</td>\n      <td>2014-01-01</td>\n      <td>1:00 PM</td>\n      <td>7.777778</td>\n      <td>34</td>\n      <td>62</td>\n      <td>10</td>\n      <td>0</td>\n      <td>29.57</td>\n      <td>...</td>\n      <td>0</td>\n      <td>0</td>\n      <td>0</td>\n      <td>0</td>\n      <td>0</td>\n      <td>0</td>\n      <td>0</td>\n      <td>0</td>\n      <td>0</td>\n      <td>0</td>\n    </tr>\n    <tr>\n      <th>3</th>\n      <td>3</td>\n      <td>27</td>\n      <td>2014-01-01</td>\n      <td>1:30 PM</td>\n      <td>7.777778</td>\n      <td>34</td>\n      <td>62</td>\n      <td>12</td>\n      <td>0</td>\n      <td>29.57</td>\n      <td>...</td>\n      <td>0</td>\n      <td>0</td>\n      <td>0</td>\n      <td>0</td>\n      <td>0</td>\n      <td>0</td>\n      <td>0</td>\n      <td>0</td>\n      <td>0</td>\n      <td>0</td>\n    </tr>\n    <tr>\n      <th>4</th>\n      <td>4</td>\n      <td>28</td>\n      <td>2014-01-01</td>\n      <td>2:00 PM</td>\n      <td>7.222222</td>\n      <td>34</td>\n      <td>66</td>\n      <td>12</td>\n      <td>0</td>\n      <td>29.57</td>\n      <td>...</td>\n      <td>0</td>\n      <td>0</td>\n      <td>0</td>\n      <td>0</td>\n      <td>0</td>\n      <td>0</td>\n      <td>0</td>\n      <td>0</td>\n      <td>0</td>\n      <td>0</td>\n    </tr>\n    <tr>\n      <th>...</th>\n      <td>...</td>\n      <td>...</td>\n      <td>...</td>\n      <td>...</td>\n      <td>...</td>\n      <td>...</td>\n      <td>...</td>\n      <td>...</td>\n      <td>...</td>\n      <td>...</td>\n      <td>...</td>\n      <td>...</td>\n      <td>...</td>\n      <td>...</td>\n      <td>...</td>\n      <td>...</td>\n      <td>...</td>\n      <td>...</td>\n      <td>...</td>\n      <td>...</td>\n      <td>...</td>\n    </tr>\n    <tr>\n      <th>29603</th>\n      <td>29603</td>\n      <td>4288</td>\n      <td>2020-03-30</td>\n      <td>8:30 AM</td>\n      <td>0.000000</td>\n      <td>21</td>\n      <td>64</td>\n      <td>8</td>\n      <td>0</td>\n      <td>29.87</td>\n      <td>...</td>\n      <td>0</td>\n      <td>0</td>\n      <td>0</td>\n      <td>0</td>\n      <td>0</td>\n      <td>0</td>\n      <td>0</td>\n      <td>0</td>\n      <td>0</td>\n      <td>0</td>\n    </tr>\n    <tr>\n      <th>29604</th>\n      <td>29604</td>\n      <td>4289</td>\n      <td>2020-03-30</td>\n      <td>9:00 AM</td>\n      <td>1.111111</td>\n      <td>21</td>\n      <td>60</td>\n      <td>10</td>\n      <td>0</td>\n      <td>29.87</td>\n      <td>...</td>\n      <td>0</td>\n      <td>0</td>\n      <td>0</td>\n      <td>0</td>\n      <td>0</td>\n      <td>0</td>\n      <td>0</td>\n      <td>0</td>\n      <td>0</td>\n      <td>0</td>\n    </tr>\n    <tr>\n      <th>29605</th>\n      <td>29605</td>\n      <td>4290</td>\n      <td>2020-03-30</td>\n      <td>9:30 AM</td>\n      <td>2.222222</td>\n      <td>19</td>\n      <td>52</td>\n      <td>9</td>\n      <td>0</td>\n      <td>29.87</td>\n      <td>...</td>\n      <td>0</td>\n      <td>0</td>\n      <td>0</td>\n      <td>0</td>\n      <td>0</td>\n      <td>0</td>\n      <td>0</td>\n      <td>0</td>\n      <td>0</td>\n      <td>0</td>\n    </tr>\n    <tr>\n      <th>29606</th>\n      <td>29606</td>\n      <td>4291</td>\n      <td>2020-03-30</td>\n      <td>10:00 AM</td>\n      <td>2.222222</td>\n      <td>19</td>\n      <td>52</td>\n      <td>10</td>\n      <td>0</td>\n      <td>29.87</td>\n      <td>...</td>\n      <td>0</td>\n      <td>0</td>\n      <td>0</td>\n      <td>0</td>\n      <td>0</td>\n      <td>0</td>\n      <td>0</td>\n      <td>0</td>\n      <td>0</td>\n      <td>0</td>\n    </tr>\n    <tr>\n      <th>29607</th>\n      <td>29607</td>\n      <td>4292</td>\n      <td>2020-03-30</td>\n      <td>10:30 AM</td>\n      <td>2.777778</td>\n      <td>19</td>\n      <td>48</td>\n      <td>10</td>\n      <td>0</td>\n      <td>29.84</td>\n      <td>...</td>\n      <td>0</td>\n      <td>0</td>\n      <td>0</td>\n      <td>0</td>\n      <td>0</td>\n      <td>0</td>\n      <td>0</td>\n      <td>0</td>\n      <td>0</td>\n      <td>0</td>\n    </tr>\n  </tbody>\n</table>\n<p>29608 rows × 85 columns</p>\n</div>"
     },
     "metadata": {},
     "execution_count": 54
    }
   ],
   "source": [
    "numerical_df"
   ]
  },
  {
   "source": [
    "# Saving dataset\n",
    "numerical_df.to_csv(\"1HotEncoded.csv\")"
   ],
   "cell_type": "code",
   "metadata": {},
   "execution_count": 26,
   "outputs": []
  },
  {
   "source": [
    "# Linear Regression"
   ],
   "cell_type": "markdown",
   "metadata": {}
  },
  {
   "cell_type": "code",
   "execution_count": 29,
   "metadata": {},
   "outputs": [],
   "source": [
    "from sklearn.linear_model import LinearRegression\n",
    "from sklearn.model_selection import train_test_split"
   ]
  },
  {
   "cell_type": "code",
   "execution_count": 31,
   "metadata": {},
   "outputs": [],
   "source": [
    "train_df, test_df = train_test_split(numerical_df, test_size = 0.1)"
   ]
  },
  {
   "cell_type": "code",
   "execution_count": 44,
   "metadata": {},
   "outputs": [
    {
     "output_type": "stream",
     "name": "stdout",
     "text": [
      "<class 'pandas.core.frame.DataFrame'>\nInt64Index: 26647 entries, 10272 to 20185\nData columns (total 82 columns):\n #   Column                               Non-Null Count  Dtype  \n---  ------                               --------------  -----  \n 0   Unnamed: 0                           26647 non-null  int64  \n 1   index                                26647 non-null  int64  \n 2   Temperature                          26647 non-null  float64\n 3   Dew Point                            26647 non-null  int64  \n 4   Humidity                             26647 non-null  int64  \n 5   Wind Speed                           26647 non-null  int64  \n 6   Wind Gust                            26647 non-null  int64  \n 7   Pressure                             26647 non-null  float64\n 8   Precip.                              26647 non-null  float64\n 9   TemperaturePrev                      26647 non-null  float64\n 10  Wind_CALM                            26647 non-null  uint8  \n 11  Wind_E                               26647 non-null  uint8  \n 12  Wind_ENE                             26647 non-null  uint8  \n 13  Wind_ESE                             26647 non-null  uint8  \n 14  Wind_N                               26647 non-null  uint8  \n 15  Wind_NE                              26647 non-null  uint8  \n 16  Wind_NNE                             26647 non-null  uint8  \n 17  Wind_NNW                             26647 non-null  uint8  \n 18  Wind_NW                              26647 non-null  uint8  \n 19  Wind_S                               26647 non-null  uint8  \n 20  Wind_SE                              26647 non-null  uint8  \n 21  Wind_SSE                             26647 non-null  uint8  \n 22  Wind_SSW                             26647 non-null  uint8  \n 23  Wind_SW                              26647 non-null  uint8  \n 24  Wind_VAR                             26647 non-null  uint8  \n 25  Wind_W                               26647 non-null  uint8  \n 26  Wind_WNW                             26647 non-null  uint8  \n 27  Wind_WSW                             26647 non-null  uint8  \n 28  Condition_Blowing Snow               26647 non-null  uint8  \n 29  Condition_Blowing Snow / Windy       26647 non-null  uint8  \n 30  Condition_Cloudy                     26647 non-null  uint8  \n 31  Condition_Cloudy / Windy             26647 non-null  uint8  \n 32  Condition_Drifting Snow              26647 non-null  uint8  \n 33  Condition_Drifting Snow / Windy      26647 non-null  uint8  \n 34  Condition_Drizzle                    26647 non-null  uint8  \n 35  Condition_Drizzle / Windy            26647 non-null  uint8  \n 36  Condition_Fair                       26647 non-null  uint8  \n 37  Condition_Fair / Windy               26647 non-null  uint8  \n 38  Condition_Fog                        26647 non-null  uint8  \n 39  Condition_Freezing Drizzle           26647 non-null  uint8  \n 40  Condition_Haze                       26647 non-null  uint8  \n 41  Condition_Heavy Rain Shower          26647 non-null  uint8  \n 42  Condition_Heavy Snow                 26647 non-null  uint8  \n 43  Condition_Heavy Snow Shower          26647 non-null  uint8  \n 44  Condition_Heavy Snow Shower / Windy  26647 non-null  uint8  \n 45  Condition_Light Drizzle              26647 non-null  uint8  \n 46  Condition_Light Drizzle / Windy      26647 non-null  uint8  \n 47  Condition_Light Freezing Drizzle     26647 non-null  uint8  \n 48  Condition_Light Freezing Rain        26647 non-null  uint8  \n 49  Condition_Light Rain                 26647 non-null  uint8  \n 50  Condition_Light Rain / Windy         26647 non-null  uint8  \n 51  Condition_Light Rain Shower          26647 non-null  uint8  \n 52  Condition_Light Rain Shower / Windy  26647 non-null  uint8  \n 53  Condition_Light Sleet                26647 non-null  uint8  \n 54  Condition_Light Snow                 26647 non-null  uint8  \n 55  Condition_Light Snow / Windy         26647 non-null  uint8  \n 56  Condition_Light Snow Grains          26647 non-null  uint8  \n 57  Condition_Light Snow Shower          26647 non-null  uint8  \n 58  Condition_Light Snow Shower / Windy  26647 non-null  uint8  \n 59  Condition_Mist                       26647 non-null  uint8  \n 60  Condition_Mostly Cloudy              26647 non-null  uint8  \n 61  Condition_Mostly Cloudy / Windy      26647 non-null  uint8  \n 62  Condition_Partial Fog                26647 non-null  uint8  \n 63  Condition_Partly Cloudy              26647 non-null  uint8  \n 64  Condition_Partly Cloudy / Windy      26647 non-null  uint8  \n 65  Condition_Patches of Fog             26647 non-null  uint8  \n 66  Condition_Rain                       26647 non-null  uint8  \n 67  Condition_Rain Shower                26647 non-null  uint8  \n 68  Condition_Rain Shower / Windy        26647 non-null  uint8  \n 69  Condition_Rain and Snow              26647 non-null  uint8  \n 70  Condition_Rain and Snow / Windy      26647 non-null  uint8  \n 71  Condition_Shallow Fog                26647 non-null  uint8  \n 72  Condition_Showers in the Vicinity    26647 non-null  uint8  \n 73  Condition_Small Hail                 26647 non-null  uint8  \n 74  Condition_Smoke                      26647 non-null  uint8  \n 75  Condition_Snow                       26647 non-null  uint8  \n 76  Condition_Snow / Windy               26647 non-null  uint8  \n 77  Condition_Snow Grains                26647 non-null  uint8  \n 78  Condition_Snow Shower                26647 non-null  uint8  \n 79  Condition_Snow Shower / Windy        26647 non-null  uint8  \n 80  Condition_Wintry Mix                 26647 non-null  uint8  \n 81  Condition_Wintry Mix / Windy         26647 non-null  uint8  \ndtypes: float64(4), int64(6), uint8(72)\nmemory usage: 4.1 MB\n"
     ]
    }
   ],
   "source": [
    "features = list(numerical_df.columns)\n",
    "features.remove('Date')\n",
    "features.remove('Time')\n",
    "features.remove('target')\n",
    "train_df[features].info()"
   ]
  },
  {
   "cell_type": "code",
   "execution_count": 66,
   "metadata": {},
   "outputs": [],
   "source": [
    "X_train = np.array(train_df[features])\n",
    "Y_train = np.array(train_df['target'])\n",
    "Y_train = Y_train.reshape(-1, 1)"
   ]
  },
  {
   "cell_type": "code",
   "execution_count": 67,
   "metadata": {},
   "outputs": [],
   "source": [
    "X_test = np.array(test_df[features])\n",
    "Y_test = np.array(test_df['target'])\n",
    "Y_test = Y_test.reshape(-1, 1)"
   ]
  },
  {
   "cell_type": "code",
   "execution_count": 68,
   "metadata": {},
   "outputs": [],
   "source": [
    "reg = LinearRegression().fit(X_train, Y_train)"
   ]
  },
  {
   "cell_type": "code",
   "execution_count": 69,
   "metadata": {},
   "outputs": [
    {
     "output_type": "execute_result",
     "data": {
      "text/plain": [
       "0.31505213821203204"
      ]
     },
     "metadata": {},
     "execution_count": 69
    }
   ],
   "source": [
    "reg.score(X_train, Y_train)"
   ]
  },
  {
   "cell_type": "code",
   "execution_count": 70,
   "metadata": {},
   "outputs": [
    {
     "output_type": "execute_result",
     "data": {
      "text/plain": [
       "0.29462940676199456"
      ]
     },
     "metadata": {},
     "execution_count": 70
    }
   ],
   "source": [
    "reg.score(X_test, Y_test)"
   ]
  },
  {
   "cell_type": "code",
   "execution_count": 73,
   "metadata": {},
   "outputs": [
    {
     "output_type": "execute_result",
     "data": {
      "text/plain": [
       "array([[-1.12491367e-05,  6.71010736e-04,  2.40143855e-01,\n",
       "         4.71861557e-03,  6.54255068e-02,  2.12689192e-03,\n",
       "         7.22642488e-03,  3.05098746e-01,  1.69331216e-12,\n",
       "        -4.53237750e-01,  1.93249290e+00, -6.36242226e-01,\n",
       "        -1.74888899e+00,  5.35929390e-01, -1.93742725e+00,\n",
       "        -2.14170592e+00, -2.25959446e+00, -1.51826222e+00,\n",
       "        -1.10541225e+00,  1.64404037e+00,  1.09944654e+00,\n",
       "         1.18459555e+00,  1.64883428e+00,  1.45020918e+00,\n",
       "         5.07987237e-01,  3.20081837e-01, -2.18111629e-01,\n",
       "         1.24202765e+00, -2.23272606e-01, -1.19981862e-01,\n",
       "        -7.43955427e-02,  2.16879545e+00, -9.24319267e-01,\n",
       "        -1.06219544e+00,  1.25825083e+00,  5.73183408e+00,\n",
       "         6.50299285e-01,  4.13099803e-01,  6.18553607e-01,\n",
       "         1.66526779e+00, -8.19603301e-01, -1.05868309e+00,\n",
       "         2.51693014e+00, -7.77817620e-01, -2.87146515e+00,\n",
       "         1.19670687e-01,  3.30420428e+00, -2.55422789e+00,\n",
       "        -2.93941683e-01,  7.60117259e-04,  1.21507284e+00,\n",
       "        -1.16735251e+00, -8.61968986e-01, -1.34854990e+00,\n",
       "        -2.10049021e-01, -2.91563150e-01, -6.36816095e-01,\n",
       "        -1.10005577e+00, -1.63321731e+00,  1.03642061e-01,\n",
       "         2.20978318e-02,  4.38664294e-03,  1.95491390e+00,\n",
       "        -2.60815416e-01, -3.80212051e-01,  8.53788198e-01,\n",
       "        -9.61167965e-02, -7.88345257e-01, -1.89776889e+00,\n",
       "         1.09948200e+00,  5.56101083e-01,  1.76835678e+00,\n",
       "        -3.07764054e+00,  1.27412663e+00,  1.29456805e-01,\n",
       "        -2.42671608e-01,  3.81975098e+00, -2.56054957e+00,\n",
       "        -4.32505520e-01, -2.08181606e+00, -6.32499198e-01,\n",
       "        -7.68424732e-01]])"
      ]
     },
     "metadata": {},
     "execution_count": 73
    }
   ],
   "source": [
    "reg.coef_"
   ]
  },
  {
   "cell_type": "code",
   "execution_count": 74,
   "metadata": {},
   "outputs": [],
   "source": [
    "coefficients_df = pd.DataFrame()"
   ]
  },
  {
   "cell_type": "code",
   "execution_count": 78,
   "metadata": {},
   "outputs": [],
   "source": [
    "coefficients_df['coef'] = req.coef_[0]"
   ]
  },
  {
   "cell_type": "code",
   "execution_count": 80,
   "metadata": {},
   "outputs": [],
   "source": [
    "coefficients_df['features'] = features\n"
   ]
  }
 ]
}