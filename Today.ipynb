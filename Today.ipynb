{
  "nbformat": 4,
  "nbformat_minor": 0,
  "metadata": {
    "colab": {
      "name": "Today.ipynb",
      "provenance": [],
      "collapsed_sections": [],
      "authorship_tag": "ABX9TyMNA1sNEHmyxfjEtMrhgOhb",
      "include_colab_link": true
    },
    "kernelspec": {
      "name": "python3",
      "display_name": "Python 3"
    }
  },
  "cells": [
    {
      "cell_type": "markdown",
      "metadata": {
        "id": "view-in-github",
        "colab_type": "text"
      },
      "source": [
        "<a href=\"https://colab.research.google.com/github/Manwi23/WILD/blob/ccolab/Today.ipynb\" target=\"_parent\"><img src=\"https://colab.research.google.com/assets/colab-badge.svg\" alt=\"Open In Colab\"/></a>"
      ]
    },
    {
      "cell_type": "markdown",
      "metadata": {
        "id": "pcBmqpPPvtU_"
      },
      "source": [
        "Run the cell below if you're running this all in colab"
      ]
    },
    {
      "cell_type": "code",
      "metadata": {
        "colab": {
          "base_uri": "https://localhost:8080/"
        },
        "id": "52CFV3eRKZyG",
        "outputId": "fa81a512-7fac-4bd7-92a6-195bccf58253"
      },
      "source": [
        "!git clone https://github.com/Manwi23/WILD.git\n",
        "%cd WILD\n",
        "!git checkout ccolab\n",
        "!pip install selenium\n",
        "!apt-get update # to update ubuntu to correctly run apt install\n",
        "!apt install chromium-chromedriver\n",
        "!cp /usr/lib/chromium-browser/chromedriver .\n",
        "# !wget https://chromedriver.storage.googleapis.com/88.0.4324.96/chromedriver_linux64.zip\n",
        "# !unzip chromedriver_linux64.zip"
      ],
      "execution_count": 1,
      "outputs": [
        {
          "output_type": "stream",
          "text": [
            "Cloning into 'WILD'...\n",
            "remote: Enumerating objects: 68, done.\u001b[K\n",
            "remote: Counting objects: 100% (68/68), done.\u001b[K\n",
            "remote: Compressing objects: 100% (46/46), done.\u001b[K\n",
            "remote: Total 383 (delta 38), reused 47 (delta 22), pack-reused 315\u001b[K\n",
            "Receiving objects: 100% (383/383), 40.89 MiB | 19.94 MiB/s, done.\n",
            "Resolving deltas: 100% (229/229), done.\n",
            "/content/WILD\n",
            "Checking out files: 100% (90/90), done.\n",
            "Branch 'ccolab' set up to track remote branch 'ccolab' from 'origin'.\n",
            "Switched to a new branch 'ccolab'\n",
            "Collecting selenium\n",
            "\u001b[?25l  Downloading https://files.pythonhosted.org/packages/80/d6/4294f0b4bce4de0abf13e17190289f9d0613b0a44e5dd6a7f5ca98459853/selenium-3.141.0-py2.py3-none-any.whl (904kB)\n",
            "\u001b[K     |████████████████████████████████| 911kB 5.0MB/s \n",
            "\u001b[?25hRequirement already satisfied: urllib3 in /usr/local/lib/python3.6/dist-packages (from selenium) (1.24.3)\n",
            "Installing collected packages: selenium\n",
            "Successfully installed selenium-3.141.0\n",
            "Get:1 https://cloud.r-project.org/bin/linux/ubuntu bionic-cran40/ InRelease [3,626 B]\n",
            "Ign:2 https://developer.download.nvidia.com/compute/cuda/repos/ubuntu1804/x86_64  InRelease\n",
            "Ign:3 https://developer.download.nvidia.com/compute/machine-learning/repos/ubuntu1804/x86_64  InRelease\n",
            "Get:4 https://developer.download.nvidia.com/compute/cuda/repos/ubuntu1804/x86_64  Release [697 B]\n",
            "Hit:5 https://developer.download.nvidia.com/compute/machine-learning/repos/ubuntu1804/x86_64  Release\n",
            "Get:6 https://developer.download.nvidia.com/compute/cuda/repos/ubuntu1804/x86_64  Release.gpg [836 B]\n",
            "Get:7 http://ppa.launchpad.net/c2d4u.team/c2d4u4.0+/ubuntu bionic InRelease [15.9 kB]\n",
            "Get:8 http://security.ubuntu.com/ubuntu bionic-security InRelease [88.7 kB]\n",
            "Hit:9 http://archive.ubuntu.com/ubuntu bionic InRelease\n",
            "Get:10 https://cloud.r-project.org/bin/linux/ubuntu bionic-cran40/ Packages [44.8 kB]\n",
            "Get:11 http://archive.ubuntu.com/ubuntu bionic-updates InRelease [88.7 kB]\n",
            "Hit:12 http://ppa.launchpad.net/cran/libgit2/ubuntu bionic InRelease\n",
            "Hit:14 http://ppa.launchpad.net/graphics-drivers/ppa/ubuntu bionic InRelease\n",
            "Get:15 http://archive.ubuntu.com/ubuntu bionic-backports InRelease [74.6 kB]\n",
            "Ign:16 https://developer.download.nvidia.com/compute/cuda/repos/ubuntu1804/x86_64  Packages\n",
            "Get:16 https://developer.download.nvidia.com/compute/cuda/repos/ubuntu1804/x86_64  Packages [552 kB]\n",
            "Get:17 http://ppa.launchpad.net/c2d4u.team/c2d4u4.0+/ubuntu bionic/main Sources [1,729 kB]\n",
            "Get:18 http://archive.ubuntu.com/ubuntu bionic-updates/main amd64 Packages [2,352 kB]\n",
            "Get:19 http://ppa.launchpad.net/c2d4u.team/c2d4u4.0+/ubuntu bionic/main amd64 Packages [885 kB]\n",
            "Get:20 http://archive.ubuntu.com/ubuntu bionic-updates/universe amd64 Packages [2,157 kB]\n",
            "Fetched 7,992 kB in 3s (2,614 kB/s)\n",
            "Reading package lists... Done\n",
            "Reading package lists... Done\n",
            "Building dependency tree       \n",
            "Reading state information... Done\n",
            "The following additional packages will be installed:\n",
            "  chromium-browser chromium-browser-l10n chromium-codecs-ffmpeg-extra\n",
            "Suggested packages:\n",
            "  webaccounts-chromium-extension unity-chromium-extension adobe-flashplugin\n",
            "The following NEW packages will be installed:\n",
            "  chromium-browser chromium-browser-l10n chromium-chromedriver\n",
            "  chromium-codecs-ffmpeg-extra\n",
            "0 upgraded, 4 newly installed, 0 to remove and 18 not upgraded.\n",
            "Need to get 81.0 MB of archives.\n",
            "After this operation, 273 MB of additional disk space will be used.\n",
            "Get:1 http://archive.ubuntu.com/ubuntu bionic-updates/universe amd64 chromium-codecs-ffmpeg-extra amd64 87.0.4280.66-0ubuntu0.18.04.1 [1,122 kB]\n",
            "Get:2 http://archive.ubuntu.com/ubuntu bionic-updates/universe amd64 chromium-browser amd64 87.0.4280.66-0ubuntu0.18.04.1 [71.7 MB]\n",
            "Get:3 http://archive.ubuntu.com/ubuntu bionic-updates/universe amd64 chromium-browser-l10n all 87.0.4280.66-0ubuntu0.18.04.1 [3,716 kB]\n",
            "Get:4 http://archive.ubuntu.com/ubuntu bionic-updates/universe amd64 chromium-chromedriver amd64 87.0.4280.66-0ubuntu0.18.04.1 [4,488 kB]\n",
            "Fetched 81.0 MB in 5s (15.1 MB/s)\n",
            "Selecting previously unselected package chromium-codecs-ffmpeg-extra.\n",
            "(Reading database ... 146442 files and directories currently installed.)\n",
            "Preparing to unpack .../chromium-codecs-ffmpeg-extra_87.0.4280.66-0ubuntu0.18.04.1_amd64.deb ...\n",
            "Unpacking chromium-codecs-ffmpeg-extra (87.0.4280.66-0ubuntu0.18.04.1) ...\n",
            "Selecting previously unselected package chromium-browser.\n",
            "Preparing to unpack .../chromium-browser_87.0.4280.66-0ubuntu0.18.04.1_amd64.deb ...\n",
            "Unpacking chromium-browser (87.0.4280.66-0ubuntu0.18.04.1) ...\n",
            "Selecting previously unselected package chromium-browser-l10n.\n",
            "Preparing to unpack .../chromium-browser-l10n_87.0.4280.66-0ubuntu0.18.04.1_all.deb ...\n",
            "Unpacking chromium-browser-l10n (87.0.4280.66-0ubuntu0.18.04.1) ...\n",
            "Selecting previously unselected package chromium-chromedriver.\n",
            "Preparing to unpack .../chromium-chromedriver_87.0.4280.66-0ubuntu0.18.04.1_amd64.deb ...\n",
            "Unpacking chromium-chromedriver (87.0.4280.66-0ubuntu0.18.04.1) ...\n",
            "Setting up chromium-codecs-ffmpeg-extra (87.0.4280.66-0ubuntu0.18.04.1) ...\n",
            "Setting up chromium-browser (87.0.4280.66-0ubuntu0.18.04.1) ...\n",
            "update-alternatives: using /usr/bin/chromium-browser to provide /usr/bin/x-www-browser (x-www-browser) in auto mode\n",
            "update-alternatives: using /usr/bin/chromium-browser to provide /usr/bin/gnome-www-browser (gnome-www-browser) in auto mode\n",
            "Setting up chromium-chromedriver (87.0.4280.66-0ubuntu0.18.04.1) ...\n",
            "Setting up chromium-browser-l10n (87.0.4280.66-0ubuntu0.18.04.1) ...\n",
            "Processing triggers for hicolor-icon-theme (0.17-2) ...\n",
            "Processing triggers for mime-support (3.60ubuntu1) ...\n",
            "Processing triggers for man-db (2.8.3-2ubuntu0.1) ...\n"
          ],
          "name": "stdout"
        }
      ]
    },
    {
      "cell_type": "code",
      "metadata": {
        "colab": {
          "base_uri": "https://localhost:8080/"
        },
        "id": "OaEZJk5ZUcCY",
        "outputId": "31ab3624-e3f1-4bb1-efce-4ffd3d9ac89f"
      },
      "source": [
        "# !git pull\n",
        "# !ls"
      ],
      "execution_count": 4,
      "outputs": [
        {
          "output_type": "stream",
          "text": [
            "chromedriver\t       google-chrome-stable_current_amd64.deb\n",
            "converter.py\t       LinearRegressionFit.py\n",
            "Create1hotEncoding.py  moreMeasurePoints.py\n",
            "csvs\t\t       neural_nets.py\n",
            "data\t\t       notes.md\n",
            "data_playground.ipynb  precipitation_notes_on_header.txt\n",
            "DataProcessing.py      precip.py\n",
            "daynight.py\t       README.md\n",
            "example_request.py     scraped\n",
            "explore.py\t       test_download.py\n",
            "get_data.py\t       trees.py\n",
            "get_places.py\t       weathermodel.py\n"
          ],
          "name": "stdout"
        }
      ]
    },
    {
      "cell_type": "code",
      "metadata": {
        "id": "3rnuQrc6wD5q"
      },
      "source": [
        "# !ls -al chromedriver"
      ],
      "execution_count": 2,
      "outputs": []
    },
    {
      "cell_type": "code",
      "metadata": {
        "id": "Voe32K74a2f-"
      },
      "source": [
        "from datetime import date, timedelta"
      ],
      "execution_count": 3,
      "outputs": []
    },
    {
      "cell_type": "code",
      "metadata": {
        "id": "BGdSaQqLa6Ua"
      },
      "source": [
        "today = date.today()\n",
        "past = today - timedelta(days=5)\n",
        "future = today + timedelta(days=1)"
      ],
      "execution_count": 4,
      "outputs": []
    },
    {
      "cell_type": "code",
      "metadata": {
        "id": "s_ty-RvfLEvQ"
      },
      "source": [
        "s = \\\n",
        "f\"from datetime import date \\n\\\n",
        "from get_data import scrape_date_range \\n\\\n",
        "scrape_date_range('wroclaw', start=date({past.year},{past.month},{past.day}), end=date({future.year},{future.month},{future.day}), chromedriver='./chromedriver')\""
      ],
      "execution_count": 5,
      "outputs": []
    },
    {
      "cell_type": "code",
      "metadata": {
        "colab": {
          "base_uri": "https://localhost:8080/"
        },
        "id": "vBB4AmWebaj5",
        "outputId": "976a6ee7-03aa-4743-ebe4-0cddeda0a64c"
      },
      "source": [
        "print(s)"
      ],
      "execution_count": 6,
      "outputs": [
        {
          "output_type": "stream",
          "text": [
            "from datetime import date \n",
            "from get_data import scrape_date_range \n",
            "scrape_date_range('wroclaw', start=date(2021,2,2), end=date(2021,2,8), chromedriver='./chromedriver')\n"
          ],
          "name": "stdout"
        }
      ]
    },
    {
      "cell_type": "code",
      "metadata": {
        "id": "sTxrC3VQSXeV"
      },
      "source": [
        "with open(\"trial.py\", 'w') as file:\n",
        "    print(s, file=file)"
      ],
      "execution_count": 7,
      "outputs": []
    },
    {
      "cell_type": "code",
      "metadata": {
        "id": "Av1_uFhkSfPZ"
      },
      "source": [
        "# !cat trial.py"
      ],
      "execution_count": 8,
      "outputs": []
    },
    {
      "cell_type": "code",
      "metadata": {
        "colab": {
          "base_uri": "https://localhost:8080/"
        },
        "id": "_VsNfnoiR2vl",
        "outputId": "a207243a-b936-4b84-fc6a-f0e46fb24f6a"
      },
      "source": [
        "!python trial.py"
      ],
      "execution_count": 9,
      "outputs": [
        {
          "output_type": "stream",
          "text": [
            "https://www.wunderground.com/history/daily/pl/wrocław/IWROCAW46/date/\n",
            "2021-02-02\n",
            "2021-02-03\n",
            "2021-02-04\n",
            "2021-02-05\n",
            "2021-02-06\n",
            "2021-02-07\n"
          ],
          "name": "stdout"
        }
      ]
    },
    {
      "cell_type": "code",
      "metadata": {
        "id": "ghK8jQyXOcEf"
      },
      "source": [
        "# !cd data && ls"
      ],
      "execution_count": 10,
      "outputs": []
    },
    {
      "cell_type": "code",
      "metadata": {
        "colab": {
          "base_uri": "https://localhost:8080/"
        },
        "id": "yK-DOzfsSiAa",
        "outputId": "3dcec3d8-5fe6-4e5c-861e-e8802565f24d"
      },
      "source": [
        "!python moreMeasurePoints.py"
      ],
      "execution_count": 11,
      "outputs": [
        {
          "output_type": "stream",
          "text": [
            "The file data/Weather-norain-n3-every2.0h-measureT already exists; reading database from file.\n",
            "The file data/Weather-norain-n3-every4.0h-measureT already exists; reading database from file.\n",
            "The file data/Weather-norain-n3-every6.0h-measureT already exists; reading database from file.\n",
            "The file data/Weather-norain-n3-every12.0h-measureT already exists; reading database from file.\n",
            "The file data/Weather-norain-n3-every24.0h-measureT already exists; reading database from file.\n",
            "\n",
            "-------------------------------------------------------------\n",
            "Results for dataframe with measurements every 2.0h\n",
            "\n",
            "LinearReg scores:\n",
            "Train reg.score: 0.1715771426639282\n",
            "Test reg.score: 0.15419410671849842\n",
            "XGBoost scores:\n",
            "Train score: [0.32282879]\n",
            "Val score: [0.11680087]\n",
            "Test score: [0.10118389]\n",
            "NeuralNet  Scores:\n",
            "Train score: [0.35546843]\n",
            "Val score: [0.18566876]\n",
            "Test score: [0.18833912]\n",
            "\n",
            "-------------------------------------------------------------\n",
            "Results for dataframe with measurements every 4.0h\n",
            "\n",
            "LinearReg scores:\n",
            "Train reg.score: 0.3410235406234251\n",
            "Test reg.score: 0.2264159138313695\n",
            "XGBoost scores:\n",
            "Train score: [0.49720954]\n",
            "Val score: [0.29282422]\n",
            "Test score: [0.28125337]\n",
            "NeuralNet  Scores:\n",
            "Train score: [0.52643057]\n",
            "Val score: [0.37525312]\n",
            "Test score: [0.32488332]\n",
            "\n",
            "-------------------------------------------------------------\n",
            "Results for dataframe with measurements every 6.0h\n",
            "\n",
            "LinearReg scores:\n",
            "Train reg.score: 0.3544663108123257\n",
            "Test reg.score: 0.23497261622034593\n",
            "XGBoost scores:\n",
            "Train score: [0.51435045]\n",
            "Val score: [0.3127907]\n",
            "Test score: [0.29650555]\n",
            "NeuralNet  Scores:\n",
            "Train score: [0.5698202]\n",
            "Val score: [0.39502922]\n",
            "Test score: [0.3279632]\n",
            "\n",
            "-------------------------------------------------------------\n",
            "Results for dataframe with measurements every 12.0h\n",
            "\n",
            "LinearReg scores:\n",
            "Train reg.score: 0.3854817570585033\n",
            "Test reg.score: 0.30377184593952544\n",
            "XGBoost scores:\n",
            "Train score: [0.5295167]\n",
            "Val score: [0.31456113]\n",
            "Test score: [0.31331878]\n",
            "NeuralNet  Scores:\n",
            "Train score: [0.54177499]\n",
            "Val score: [0.40504801]\n",
            "Test score: [0.34859347]\n",
            "\n",
            "-------------------------------------------------------------\n",
            "Results for dataframe with measurements every 24.0h\n",
            "\n",
            "LinearReg scores:\n",
            "Train reg.score: 0.22127189672888548\n",
            "Test reg.score: 0.170685002732324\n",
            "XGBoost scores:\n",
            "Train score: [0.36494345]\n",
            "Val score: [0.13196433]\n",
            "Test score: [0.11196324]\n",
            "NeuralNet  Scores:\n",
            "Train score: [0.38307802]\n",
            "Val score: [0.2222662]\n",
            "Test score: [0.17953236]\n",
            "https://www.wunderground.com/history/daily/pl/wrocław/IWROCAW46/date/\n",
            "2021-02-02\n",
            "2021-02-03\n",
            "2021-02-04\n",
            "2021-02-05\n",
            "2021-02-06\n",
            "2021-02-07\n",
            "Reading data...\n",
            "Adding previous measurements...\n",
            "Applying 1 Hot Encoding...\n",
            "All Columns: ['index', 'Date', 'Time', 'Temperature', 'Dew Point', 'Humidity', 'Wind', 'Wind Speed', 'Wind Gust', 'Pressure', 'Precip.', 'Condition', 'target', 'TemperaturePrev2h', 'WindPrev2h', 'ConditionPrev2h', 'TemperaturePrev4h', 'WindPrev4h', 'ConditionPrev4h', 'TemperaturePrev6h', 'WindPrev6h', 'ConditionPrev6h']\n",
            "\n",
            "\n",
            "Dataframe 2.0 columns:\n",
            "\n",
            "Index(['Temperature', 'Dew Point', 'Humidity', 'Wind Speed', 'Wind Gust',\n",
            "       'Pressure', 'Precip.', 'target', 'TemperaturePrev2h',\n",
            "       'TemperaturePrev4h',\n",
            "       ...\n",
            "       'ConditionPrev6h_Fair', 'ConditionPrev6h_Heavy Snow',\n",
            "       'ConditionPrev6h_Light Rain', 'ConditionPrev6h_Light Rain / Windy',\n",
            "       'ConditionPrev6h_Light Snow', 'ConditionPrev6h_Mostly Cloudy',\n",
            "       'ConditionPrev6h_Mostly Cloudy / Windy',\n",
            "       'ConditionPrev6h_Partly Cloudy', 'ConditionPrev6h_Snow',\n",
            "       'ConditionPrev6h_Wintry Mix'],\n",
            "      dtype='object', length=123)\n",
            "Reading data...\n",
            "Adding previous measurements...\n",
            "Applying 1 Hot Encoding...\n",
            "All Columns: ['index', 'Date', 'Time', 'Temperature', 'Dew Point', 'Humidity', 'Wind', 'Wind Speed', 'Wind Gust', 'Pressure', 'Precip.', 'Condition', 'target', 'TemperaturePrev4h', 'WindPrev4h', 'ConditionPrev4h', 'TemperaturePrev8h', 'WindPrev8h', 'ConditionPrev8h', 'TemperaturePrev12h', 'WindPrev12h', 'ConditionPrev12h']\n",
            "\n",
            "\n",
            "Dataframe 4.0 columns:\n",
            "\n",
            "Index(['Temperature', 'Dew Point', 'Humidity', 'Wind Speed', 'Wind Gust',\n",
            "       'Pressure', 'Precip.', 'target', 'TemperaturePrev4h',\n",
            "       'TemperaturePrev8h',\n",
            "       ...\n",
            "       'ConditionPrev12h_Fair', 'ConditionPrev12h_Heavy Snow',\n",
            "       'ConditionPrev12h_Light Rain', 'ConditionPrev12h_Light Rain / Windy',\n",
            "       'ConditionPrev12h_Light Snow', 'ConditionPrev12h_Mostly Cloudy',\n",
            "       'ConditionPrev12h_Mostly Cloudy / Windy',\n",
            "       'ConditionPrev12h_Partly Cloudy', 'ConditionPrev12h_Snow',\n",
            "       'ConditionPrev12h_Wintry Mix'],\n",
            "      dtype='object', length=122)\n",
            "Reading data...\n",
            "Adding previous measurements...\n",
            "Applying 1 Hot Encoding...\n",
            "All Columns: ['index', 'Date', 'Time', 'Temperature', 'Dew Point', 'Humidity', 'Wind', 'Wind Speed', 'Wind Gust', 'Pressure', 'Precip.', 'Condition', 'target', 'TemperaturePrev6h', 'WindPrev6h', 'ConditionPrev6h', 'TemperaturePrev12h', 'WindPrev12h', 'ConditionPrev12h', 'TemperaturePrev18h', 'WindPrev18h', 'ConditionPrev18h']\n",
            "\n",
            "\n",
            "Dataframe 6.0 columns:\n",
            "\n",
            "Index(['Temperature', 'Dew Point', 'Humidity', 'Wind Speed', 'Wind Gust',\n",
            "       'Pressure', 'Precip.', 'target', 'TemperaturePrev6h',\n",
            "       'TemperaturePrev12h',\n",
            "       ...\n",
            "       'ConditionPrev18h_Fair', 'ConditionPrev18h_Light Rain',\n",
            "       'ConditionPrev18h_Light Rain / Windy', 'ConditionPrev18h_Light Snow',\n",
            "       'ConditionPrev18h_Mist', 'ConditionPrev18h_Mostly Cloudy',\n",
            "       'ConditionPrev18h_Mostly Cloudy / Windy',\n",
            "       'ConditionPrev18h_Partly Cloudy', 'ConditionPrev18h_Snow',\n",
            "       'ConditionPrev18h_Wintry Mix'],\n",
            "      dtype='object', length=121)\n",
            "Reading data...\n",
            "Adding previous measurements...\n",
            "Applying 1 Hot Encoding...\n",
            "All Columns: ['index', 'Date', 'Time', 'Temperature', 'Dew Point', 'Humidity', 'Wind', 'Wind Speed', 'Wind Gust', 'Pressure', 'Precip.', 'Condition', 'target', 'TemperaturePrev12h', 'WindPrev12h', 'ConditionPrev12h', 'TemperaturePrev24h', 'WindPrev24h', 'ConditionPrev24h', 'TemperaturePrev36h', 'WindPrev36h', 'ConditionPrev36h']\n",
            "\n",
            "\n",
            "Dataframe 12.0 columns:\n",
            "\n",
            "Index(['Temperature', 'Dew Point', 'Humidity', 'Wind Speed', 'Wind Gust',\n",
            "       'Pressure', 'Precip.', 'target', 'TemperaturePrev12h',\n",
            "       'TemperaturePrev24h',\n",
            "       ...\n",
            "       'ConditionPrev36h_Fair', 'ConditionPrev36h_Light Rain',\n",
            "       'ConditionPrev36h_Light Rain / Windy', 'ConditionPrev36h_Light Snow',\n",
            "       'ConditionPrev36h_Mist', 'ConditionPrev36h_Mostly Cloudy',\n",
            "       'ConditionPrev36h_Mostly Cloudy / Windy',\n",
            "       'ConditionPrev36h_Partly Cloudy', 'ConditionPrev36h_Snow',\n",
            "       'ConditionPrev36h_Wintry Mix'],\n",
            "      dtype='object', length=118)\n",
            "Reading data...\n",
            "Adding previous measurements...\n",
            "Applying 1 Hot Encoding...\n",
            "All Columns: ['index', 'Date', 'Time', 'Temperature', 'Dew Point', 'Humidity', 'Wind', 'Wind Speed', 'Wind Gust', 'Pressure', 'Precip.', 'Condition', 'target', 'TemperaturePrev24h', 'WindPrev24h', 'ConditionPrev24h', 'TemperaturePrev48h', 'WindPrev48h', 'ConditionPrev48h', 'TemperaturePrev72h', 'WindPrev72h', 'ConditionPrev72h']\n",
            "\n",
            "\n",
            "Dataframe 24.0 columns:\n",
            "\n",
            "Index(['Temperature', 'Dew Point', 'Humidity', 'Wind Speed', 'Wind Gust',\n",
            "       'Pressure', 'Precip.', 'target', 'TemperaturePrev24h',\n",
            "       'TemperaturePrev48h', 'TemperaturePrev72h', 'Wind_E', 'Wind_ENE',\n",
            "       'Wind_ESE', 'Condition_Cloudy', 'Condition_Drifting Snow',\n",
            "       'Condition_Fair', 'Condition_Heavy Snow', 'Condition_Light Snow',\n",
            "       'Condition_Mostly Cloudy', 'Condition_Partly Cloudy', 'Condition_Snow',\n",
            "       'WindPrev24h_E', 'WindPrev24h_ENE', 'WindPrev24h_ESE', 'WindPrev24h_N',\n",
            "       'WindPrev24h_NE', 'WindPrev24h_NNE', 'WindPrev24h_NNW',\n",
            "       'WindPrev24h_NW', 'WindPrev24h_SW', 'WindPrev24h_W', 'WindPrev24h_WNW',\n",
            "       'WindPrev24h_WSW', 'ConditionPrev24h_Cloudy', 'ConditionPrev24h_Fair',\n",
            "       'ConditionPrev24h_Light Rain', 'ConditionPrev24h_Light Rain / Windy',\n",
            "       'ConditionPrev24h_Light Snow', 'ConditionPrev24h_Mostly Cloudy',\n",
            "       'ConditionPrev24h_Mostly Cloudy / Windy',\n",
            "       'ConditionPrev24h_Partly Cloudy', 'ConditionPrev24h_Snow',\n",
            "       'ConditionPrev24h_Wintry Mix', 'WindPrev48h_E', 'WindPrev48h_ENE',\n",
            "       'WindPrev48h_ESE', 'WindPrev48h_N', 'WindPrev48h_NE', 'WindPrev48h_NNE',\n",
            "       'WindPrev48h_NNW', 'WindPrev48h_NW', 'WindPrev48h_S', 'WindPrev48h_SE',\n",
            "       'WindPrev48h_SSE', 'WindPrev48h_SSW', 'WindPrev48h_SW', 'WindPrev48h_W',\n",
            "       'WindPrev48h_WNW', 'WindPrev48h_WSW', 'ConditionPrev48h_Cloudy',\n",
            "       'ConditionPrev48h_Fair', 'ConditionPrev48h_Light Rain',\n",
            "       'ConditionPrev48h_Light Rain / Windy', 'ConditionPrev48h_Light Snow',\n",
            "       'ConditionPrev48h_Mostly Cloudy',\n",
            "       'ConditionPrev48h_Mostly Cloudy / Windy',\n",
            "       'ConditionPrev48h_Partly Cloudy', 'ConditionPrev48h_Snow',\n",
            "       'ConditionPrev48h_Wintry Mix', 'WindPrev72h_E', 'WindPrev72h_ESE',\n",
            "       'WindPrev72h_N', 'WindPrev72h_NE', 'WindPrev72h_NNE', 'WindPrev72h_NNW',\n",
            "       'WindPrev72h_NW', 'WindPrev72h_S', 'WindPrev72h_SE', 'WindPrev72h_SSE',\n",
            "       'WindPrev72h_SSW', 'WindPrev72h_SW', 'WindPrev72h_W', 'WindPrev72h_WNW',\n",
            "       'WindPrev72h_WSW', 'ConditionPrev72h_Cloudy', 'ConditionPrev72h_Fair',\n",
            "       'ConditionPrev72h_Light Rain', 'ConditionPrev72h_Light Rain / Windy',\n",
            "       'ConditionPrev72h_Mist', 'ConditionPrev72h_Mostly Cloudy',\n",
            "       'ConditionPrev72h_Mostly Cloudy / Windy',\n",
            "       'ConditionPrev72h_Partly Cloudy', 'ConditionPrev72h_Wintry Mix'],\n",
            "      dtype='object')\n",
            "linear\n",
            "xgboost\n",
            "neuralnet\n",
            "linear\n",
            "xgboost\n",
            "neuralnet\n",
            "linear\n",
            "xgboost\n",
            "neuralnet\n",
            "linear\n",
            "xgboost\n",
            "neuralnet\n",
            "linear\n",
            "xgboost\n",
            "neuralnet\n",
            "4 linear\n",
            "[-6.153219068191742, -7.224738899352616, -7.27203885290599, -4.5623205948410055, -8.183121643438795, -8.514696200554443, -8.56769055237395, -6.952303597665241, -8.044947893660034, -8.53836580374875]\n",
            "4 xgboost\n",
            "[-4.393976092338562, -5.505087203449673, -5.505087203449673, -6.616198314560784, -6.787409289015664, -7.41062887178527, -7.41062887178527, -7.41062887178527, -7.0613349543677435, -7.883219586478339]\n",
            "4 neuralnet\n",
            "[-4.9850923623889685, -7.185750073856777, -8.432418055004543, -9.132743491066826, -10.21765293015374, -11.620865450965034, -11.554777251349556, -11.53110777007209, -10.779786931143867, -11.777934657202827]\n",
            "8 linear\n",
            "[-6.59551092347364, -8.305917696929864, -8.082804982248227, -6.665624391284397, -9.164743277936257, -9.66289143282723, -9.485657343630614, -9.68575514866054, -9.04867634758892, -9.65987030318579]\n",
            "8 xgboost\n",
            "[-5.088707149028778, -6.199818260139889, -6.199818260139889, -7.310929371251, -8.11208320988549, -7.866484926806556, -6.993165718184577, -6.993165718184577, -6.993165718184577, -6.993165718184577]\n",
            "8 neuralnet\n",
            "[-5.539481818675995, -7.429665393299526, -9.021919674343533, -10.183246029747856, -11.6836642159356, -12.484509574042427, -11.154776679144966, -11.135069714652168, -10.821803675757515, -11.517854558096992]\n",
            "12 linear\n",
            "[-6.756930106686083, -8.538080486692216, -8.619401919664483, -7.116661531306147, -9.812777510080167, -9.407704778919022, -9.290870620399513, -9.428714957239912, -9.40688340362956, -10.552134858841448]\n",
            "12 xgboost\n",
            "[-6.272832274436951, -7.679742521709866, -7.679742521709866, -8.790853632820976, -8.859382761849297, -9.346409188376533, -8.496943102942573, -8.201144443617927, -8.201144443617927, -9.567114220725166]\n",
            "12 neuralnet\n",
            "[-6.191691160202026, -7.650567717022366, -9.509579128689236, -10.415122164620293, -12.64740122689141, -11.680570231543648, -10.279855595694649, -10.67290292845832, -10.71623550521003, -12.03773652182685]\n",
            "24 linear\n",
            "[-6.263944076128258, -7.814884781545889, -8.104090924352413, -6.26655989964297, -8.738012245910195, -8.89807733866863, -8.591345025362392, -8.614665340528754, -8.610712880811656, -8.654006683565425]\n",
            "24 xgboost\n",
            "[-4.977310419082642, -6.517194992966122, -6.517194992966122, -7.628306104077233, -7.628306104077233, -8.18386165963279, -8.18386165963279, -8.18386165963279, -8.18386165963279, -8.18386165963279]\n",
            "24 neuralnet\n",
            "[-7.279655694961548, -8.665755218929714, -8.705592340893215, -8.001540972126854, -9.352713717354668, -9.711404429541695, -9.5800236331092, -9.620986329184639, -9.622938142882454, -9.810674534903633]\n",
            "48 linear\n",
            "[-0.030060855669275188, -2.6367266824194004, -2.6724377738317715, -2.3787443223413183, -1.6990472872001487, -2.69942150570091, -2.355960554901299, -3.088056542696362, -2.2712236605436567, -0.9595618796517051]\n",
            "48 xgboost\n",
            "[0.1186694569057889, 0.1186694569057889, 0.34379286236233186, 0.1186694569057889, 0.1186694569057889, 0.1186694569057889, 0.1186694569057889, 0.34379286236233186, -0.9924416542053223, -0.7673182487487793]\n",
            "48 neuralnet\n",
            "[-1.6151404910617404, -2.6535809569888644, -2.7511082225375705, -3.5674892001681857, -1.520084434085422, -2.673055224948459, -2.4096069865756564, -3.5116153293185763, -2.1780810356140137, -2.7630083560943604]\n"
          ],
          "name": "stdout"
        }
      ]
    },
    {
      "cell_type": "code",
      "metadata": {
        "id": "Ht7e9G0ZwZdw"
      },
      "source": [
        ""
      ],
      "execution_count": null,
      "outputs": []
    }
  ]
}